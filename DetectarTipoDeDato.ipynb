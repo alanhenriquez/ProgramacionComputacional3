{
  "nbformat": 4,
  "nbformat_minor": 0,
  "metadata": {
    "colab": {
      "provenance": [],
      "authorship_tag": "ABX9TyPZ0Y7QrF/YYx5R9dtDBwPS",
      "include_colab_link": true
    },
    "kernelspec": {
      "name": "python3",
      "display_name": "Python 3"
    },
    "language_info": {
      "name": "python"
    }
  },
  "cells": [
    {
      "cell_type": "markdown",
      "metadata": {
        "id": "view-in-github",
        "colab_type": "text"
      },
      "source": [
        "<a href=\"https://colab.research.google.com/github/alanhenriquez/ProgramacionComputacional3/blob/main/DetectarTipoDeDato.ipynb\" target=\"_parent\"><img src=\"https://colab.research.google.com/assets/colab-badge.svg\" alt=\"Open In Colab\"/></a>"
      ]
    },
    {
      "cell_type": "code",
      "execution_count": 2,
      "metadata": {
        "colab": {
          "base_uri": "https://localhost:8080/"
        },
        "id": "qTm7wgMLI5ZE",
        "outputId": "eb50d6ce-5cf1-405d-9451-ac523070e13f"
      },
      "outputs": [
        {
          "output_type": "stream",
          "name": "stdout",
          "text": [
            "Detectar tipo de dato\n",
            "3\n",
            "int\n"
          ]
        }
      ],
      "source": [
        "print(\"Detectar tipo de dato\")\n",
        "\n",
        "numero = input()\n",
        "num = None\n",
        "\n",
        "def TipoDato(number):\n",
        "  for conv in (int, float, complex, str, bool):\n",
        "    try:\n",
        "      num = conv(number)\n",
        "      break\n",
        "    except ValueError:\n",
        "      pass\n",
        "\n",
        "  if num is None:\n",
        "      print(\"Error de entrada\")\n",
        "  else:\n",
        "      typos = (type(num).__name__);\n",
        "      print(typos);    \n",
        "\n",
        "TipoDato(numero)"
      ]
    }
  ]
}