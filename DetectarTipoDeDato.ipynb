{
  "nbformat": 4,
  "nbformat_minor": 0,
  "metadata": {
    "colab": {
      "provenance": [],
      "authorship_tag": "ABX9TyNE3Q5ZeCw7okrxz9UIRfeW",
      "include_colab_link": true
    },
    "kernelspec": {
      "name": "python3",
      "display_name": "Python 3"
    },
    "language_info": {
      "name": "python"
    }
  },
  "cells": [
    {
      "cell_type": "markdown",
      "metadata": {
        "id": "view-in-github",
        "colab_type": "text"
      },
      "source": [
        "<a href=\"https://colab.research.google.com/github/alanhenriquez/ProgramacionComputacional3/blob/main/DetectarTipoDeDato.ipynb\" target=\"_parent\"><img src=\"https://colab.research.google.com/assets/colab-badge.svg\" alt=\"Open In Colab\"/></a>"
      ]
    },
    {
      "cell_type": "code",
      "execution_count": null,
      "metadata": {
        "id": "qTm7wgMLI5ZE"
      },
      "outputs": [],
      "source": [
        "print(\"Detectar tipo de dato\")\n",
        "numero = input()\n",
        "\n",
        "def TipoDato(number):\n",
        "  num = None\n",
        "  for conv in (int, float, complex, str, bool):\n",
        "    try:\n",
        "      num = conv(number)\n",
        "      break\n",
        "    except ValueError:\n",
        "      pass\n",
        "\n",
        "  if num is None:\n",
        "      return (\"Error de entrada\")\n",
        "  else:\n",
        "      typos = (type(num).__name__);\n",
        "      return (typos);    \n",
        "\n",
        "print(TipoDato(numero))"
      ]
    }
  ]
}