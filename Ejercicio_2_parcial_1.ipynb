{
  "cells": [
    {
      "cell_type": "markdown",
      "metadata": {
        "id": "view-in-github",
        "colab_type": "text"
      },
      "source": [
        "<a href=\"https://colab.research.google.com/github/alanhenriquez/ProgramacionComputacional3/blob/main/Ejercicio_2_parcial_1.ipynb\" target=\"_parent\"><img src=\"https://colab.research.google.com/assets/colab-badge.svg\" alt=\"Open In Colab\"/></a>"
      ]
    },
    {
      "cell_type": "code",
      "execution_count": 2,
      "metadata": {
        "colab": {
          "base_uri": "https://localhost:8080/"
        },
        "id": "p5wVUzqmK-wM",
        "outputId": "6f38b363-1a20-4279-fc45-35092d353d06"
      },
      "outputs": [
        {
          "output_type": "stream",
          "name": "stdout",
          "text": [
            "Escribe la cantidad a pagar:  100000\n",
            "***Fila numero 9***\n",
            "Total a pagar:  125.0 USD\n"
          ]
        }
      ],
      "source": [
        "\n",
        "#Ejercicio 2 parcial I\n",
        "\n",
        "cantidad = float(input(\"Escribe la cantidad a pagar:  \"))\n",
        "\n",
        "importe = [[],\n",
        "             [0, 0.01, 500.01, 1000.01, 2000.01, 3000.01, 8000.01, 18000.01, 30000.01, 60000.01, 100000.01, 200000.01, 300000.01, 400000.01, 500000.01, 1000000.01],\n",
        "             [0, 1.5, 3, 6, 9, 15, 39, 63, 93, 125, 195, 255, 300, 340, 490], \n",
        "             [0, 3, 2, 1, 0.8, 0.7, 0.6, 0.45, 0.4, 0.30, 0.18]]\n",
        "\n",
        "\n",
        "\n",
        "if cantidad >= 0.01 and cantidad <= 500:\n",
        "\n",
        " print(\"***Fila numero 1***\")\n",
        " total = round((cantidad-importe[1][1])/1000*importe[3][0]+importe[2][1], 2)\n",
        " print(\"Total a pagar: \", total , \"USD\")\n",
        "\n",
        "elif cantidad >= 500.01 and cantidad <= 1000:\n",
        "\n",
        " print(\"***Fila numero 2***\")\n",
        " total = round((cantidad-importe[1][2])/1000*importe[3][1]+importe[2][1], 2)\n",
        " print(\"Total a pagar: \", total, \"USD\")\n",
        "\n",
        "elif cantidad >= 1000.01 and cantidad <= 2000:\n",
        "\n",
        " print(\"***Fila numero 3***\")\n",
        " total = round((cantidad-importe[1][3])/1000*importe[3][1]+importe[2][2], 2)\n",
        " print(\"Total a pagar: \", total, \"USD\")\n",
        "\n",
        "\n",
        "elif cantidad >= 2000.01 and cantidad <= 3000:\n",
        "\n",
        " print(\"***Fila numero 4***\")\n",
        " total = round((cantidad-importe[1][4])/1000*importe[3][1]+importe[2][3], 2)\n",
        " print(\"Total a pagar: \", total, \"USD\")\n",
        "\n",
        "elif cantidad >= 3000.01 and cantidad <= 6000:  \n",
        "\n",
        " print(\"***Fila numero 5***\")\n",
        " total = round((cantidad-importe[1][5])/1000*importe[3][2]+importe[2][4], 2)\n",
        " print(\"Total a pagar: \", total, \"USD\")\n",
        "\n",
        "elif cantidad >= 6000.01 and cantidad <= 18000:  \n",
        "\n",
        " print(\"***Fila numero 6***\")\n",
        " total = round((cantidad-importe[1][6])/1000*importe[3][2]+importe[2][5], 2)\n",
        " print(\"Total a pagar: \", total, \"USD\")\n",
        "\n",
        "elif cantidad >= 18000.01 and cantidad <= 30000:\n",
        "\n",
        " print(\"***Fila numero 7***\")\n",
        " total = round((cantidad-importe[1][7])/1000*importe[3][2]+importe[2][6], 2)\n",
        " print(\"Total a pagar: \", total, \"USD\")\n",
        "\n",
        "elif cantidad >= 30000.01 and cantidad <= 60000:\n",
        "  \n",
        " print(\"***Fila numero 8***\")\n",
        " total = round((cantidad-importe[1][8])/1000*importe[3][3]+importe[2][7], 2)\n",
        " print(\"Total a pagar: \", total, \"USD\")\n",
        "\n",
        "\n",
        "elif cantidad >= 60000.01 and cantidad <= 100000:\n",
        "\n",
        " print(\"***Fila numero 9***\")\n",
        " total = round((cantidad-importe[1][9])/1000*importe[3][4]+importe[2][8], 2)\n",
        " print(\"Total a pagar: \", total, \"USD\")\n",
        "\n",
        "elif cantidad >= 100000.01 and cantidad <= 200000:\n",
        "\n",
        " print(\"***Fila numero 10***\")\n",
        " total = round((cantidad-importe[1][10])/1000*importe[3][5]+importe[2][9], 2)\n",
        " print(\"Total a pagar: \", total, \"USD\")\n",
        "\n",
        "\n",
        "elif cantidad >= 200000.01 and cantidad <= 300000:\n",
        "\n",
        " print(\"***Fila numero 11***\")\n",
        " total = round((cantidad-importe[1][11])/1000*importe[3][6]+importe[2][10], 2)\n",
        " print(\"Total a pagar: \", total, \"USD\")\n",
        "    \n",
        "elif cantidad >= 300000.01 and cantidad <= 400000:\n",
        "\n",
        " print(\"***Fila numero 12***\")\n",
        " total = round((cantidad-importe[1][12])/1000*importe[3][7]+importe[2][11], 2)\n",
        " print(\"Total a pagar: \", total, \"USD\")\n",
        "  \n",
        "elif cantidad >= 400000.01 and cantidad <= 500000:\n",
        "\n",
        " print(\"***Fila numero 13***\")\n",
        " total = round((cantidad-importe[1][13])/1000*importe[3][8]+importe[2][12], 2)\n",
        " print(\"Total a pagar: \", total, \"USD\") \n",
        "\n",
        "elif cantidad >= 500000.01 and cantidad <= 1000000:\n",
        "\n",
        " print(\"***Fila numero 14***\")\n",
        " total = round((cantidad-importe[1][14])/1000*importe[3][9]+importe[2][13], 2)\n",
        " print(\"Total a pagar: \", total, \"USD\")\n",
        "  \n",
        "elif cantidad >= 1000000.01 and cantidad <= 99999999:\n",
        "\n",
        " print(\"***Fila numero 15***\")\n",
        " total = round((cantidad-importe[1][15])/1000*importe[3][10]+importe[2][14], 2)\n",
        " print(\"Total a pagar: \", total, \"USD\")\n",
        "\n",
        "else:\n",
        "\n",
        " print(\"No ha introducido un valor correcto\", \"\\nSaliendo...\")\n"
      ]
    }
  ],
  "metadata": {
    "kernelspec": {
      "display_name": "Python 3.10.6 64-bit",
      "language": "python",
      "name": "python3"
    },
    "language_info": {
      "codemirror_mode": {
        "name": "ipython",
        "version": 3
      },
      "file_extension": ".py",
      "mimetype": "text/x-python",
      "name": "python",
      "nbconvert_exporter": "python",
      "pygments_lexer": "ipython3",
      "version": "3.10.6"
    },
    "orig_nbformat": 4,
    "vscode": {
      "interpreter": {
        "hash": "59150dd3180ea18e99637fd552539381c38caea73b154cbeed15b808058e2c00"
      }
    },
    "colab": {
      "provenance": [],
      "include_colab_link": true
    }
  },
  "nbformat": 4,
  "nbformat_minor": 0
}