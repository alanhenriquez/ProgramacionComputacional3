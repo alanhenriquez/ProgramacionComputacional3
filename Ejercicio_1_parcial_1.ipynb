{
  "cells": [
    {
      "cell_type": "markdown",
      "metadata": {
        "id": "view-in-github",
        "colab_type": "text"
      },
      "source": [
        "<a href=\"https://colab.research.google.com/github/alanhenriquez/ProgramacionComputacional3/blob/main/Ejercicio_1_parcial_1.ipynb\" target=\"_parent\"><img src=\"https://colab.research.google.com/assets/colab-badge.svg\" alt=\"Open In Colab\"/></a>"
      ]
    },
    {
      "cell_type": "code",
      "execution_count": 1,
      "metadata": {
        "colab": {
          "base_uri": "https://localhost:8080/"
        },
        "id": "wapv-q0t0TyH",
        "outputId": "97a47759-c37c-433a-ac3e-a794e29c373b"
      },
      "outputs": [
        {
          "output_type": "stream",
          "name": "stdout",
          "text": [
            "Ingresa tu sueldo: 700\n",
            "Escribe el tiempo que llevas en la empresa (En años) **nota** Escribe 0 si llevas menos de 1 año:2\n",
            "***Deducciones***\n",
            "ISSS:................. 21.0 \n",
            "ISSS Patronal:........ 52.5 \n",
            "AFP:.................. 50.75 \n",
            "AFP Patronal:......... 54.25 \n",
            "ISR:.................. 33.29 \n",
            "Salario neto mensual:  594.96 \n",
            "\n",
            "***Sueldo por vacaciones*** \n",
            "Salario quincenal:     314.12 \n",
            "Total por vacaciones:  408.36\n",
            "\n",
            "***aguinaldos***\n",
            "Tienes 2 Años trabajando\n",
            "Aguinaldo:  350.0\n"
          ]
        }
      ],
      "source": [
        "#Ejercicio 1 parcial\n",
        "salario = float (input(\"Ingresa tu sueldo: \"))\n",
        "tpoTrabajo = int(input(\"Escribe el tiempo que llevas en la empresa (En años) **nota** Escribe 0 si llevas menos de 1 año:\"))\n",
        "AFP = round(salario*0.0725,2)\n",
        "AFP2 = round(salario*0.0775,2)\n",
        "ISSS = salario*0.03\n",
        "ISSS2 = salario*0.075\n",
        "tramo = salario-AFP-ISSS\n",
        "neto = salario-AFP-30.0\n",
        "quince = round(tramo/2,2)\n",
        "vacaciones = quince*0.3\n",
        "totalv = round(vacaciones+quince, 2)\n",
        "\n",
        "print(\"***Deducciones***\")\n",
        "if (tramo <= 472):\n",
        "  \n",
        "\n",
        "  print(\"ISSS:.................\",ISSS , \"\\nISSS Patronal:....... \", ISSS2, \"\\nAFP:..................\", AFP , \"\\nAFP Patronal:.........\", AFP2,\"\\nISR:.................. 0\", \"\\nSalario neto mensual: \", tramo , \"\\n\\n***Sueldo por vacaciones***\",\n",
        "        \"\\nSalario quincenal:   \", quince, \"\\nTotal por vacaciones \",totalv )\n",
        "  \n",
        "elif(tramo>=472.01) and (tramo<=895.24):\n",
        "  \n",
        "  renta = round((tramo-472.01)*0.10+17.67,2)\n",
        "  Sneto = round(tramo - renta,2)\n",
        "  print(\"ISSS:.................\",ISSS , \"\\nISSS Patronal:........\", ISSS2, \"\\nAFP:..................\", AFP , \"\\nAFP Patronal:.........\", AFP2,\"\\nISR:..................\", renta,  \"\\nSalario neto mensual: \", Sneto , \"\\n\\n***Sueldo por vacaciones***\",\n",
        "        \"\\nSalario quincenal:    \", quince, \"\\nTotal por vacaciones: \",totalv )\n",
        "\n",
        "elif(tramo>=895.25) and (tramo<=2038.10):\n",
        " if(tramo>=1000):\n",
        "\n",
        "   renta = round((neto-895.25)*0.20+60,2)\n",
        "   Sneto = round(neto - renta,2)\n",
        "   print(\"ISSS:................. 30.0\", \"\\nISSS Patronal:........ 75.0\", \"\\nAFP:..................\", AFP , \"\\nAFP Patronal:.........\", AFP2,\"\\nISR:..................\", renta,  \"\\nSalario neto mensual: \", Sneto , \"\\n\\n***Sueldo por vacaciones***\",\n",
        "        \"\\nSalario quincenal:    \", quince, \"\\nTotal por vacaciones: \",totalv )\n",
        "\n",
        " else:\n",
        "   renta = (tramo-895.25)*0.20+60\n",
        "   Sneto = round(neto - renta,2)\n",
        "   print(\"ISSS:..........\",ISSS , \"\\nISSS Patronal:...........\", ISSS2, \"\\nAFP:...........\", AFP , \"\\nAFP Patronal:  \", AFP2,\"\\nISR:...........  \", renta,  \"\\nSalario neto mensual: \", Sneto , \"\\n\\n***Sueldo por vacaciones***\",\n",
        "        \"\\nSalario quincenal:    \", quince, \"\\nTotal por vacaciones: \",totalv )\n",
        "\n",
        "else:\n",
        " renta = round((neto-2038.11)*0.30+288.57,2)\n",
        " Sneto = round(neto - renta,2)\n",
        " print(\"ISSS:................. 30.0\", \"\\nISSS Patronal:........ 75.0\", \"\\nAFP:..................\", AFP , \"\\nAFP Patronal:.........\", AFP2,\"\\nISR:..................\", renta,  \"\\nSalario neto mensual: \", Sneto , \"\\n\\n***Sueldo por vacaciones***\",\n",
        "        \"\\nSalario quincenal:    \", quince, \"\\nTotal por vacaciones: \",totalv )\n",
        " \n",
        " \n",
        " \n",
        " \n",
        " \n",
        " \n",
        "print(\"\\n***aguinaldos***\")\n",
        "if (tpoTrabajo<1):\n",
        "  print(\"Tienes menos de un año laborado\")\n",
        "  dias = int(input(\"Ingresa cuantos dias llevas trabajados\"))\n",
        "  aguinaldo = round((salario/30)*(15)/365*dias,2)\n",
        "  print(\"Dias trabajados: \", dias , \"\\nAguinaldo: \",aguinaldo)\n",
        "\n",
        "\n",
        "elif(tpoTrabajo>=1) and (tpoTrabajo<3):\n",
        "  print(\"Tienes\", tpoTrabajo , \"Años trabajando\")\n",
        "  aguinaldo = round((salario/30)*15, 2)\n",
        "  print(\"Aguinaldo: \",aguinaldo) \n",
        "\n",
        "\n",
        "elif(tpoTrabajo>=3) and (tpoTrabajo<10):\n",
        "  print(\"Tienes\", tpoTrabajo , \"Años trabajando\")\n",
        "  aguinaldo = round((salario/30)*19, 2)\n",
        "  print(\"Aguinaldo: \",aguinaldo) \n",
        "\n",
        "else:\n",
        "  print(\"Tienes\", tpoTrabajo , \"Años trabajando **Felicidades**\")\n",
        "  aguinaldo = round((salario/30)*21, 2)\n",
        "  print(\"Aguinaldo: \",aguinaldo) "
      ]
    }
  ],
  "metadata": {
    "kernelspec": {
      "display_name": "Python 3.10.6 64-bit",
      "language": "python",
      "name": "python3"
    },
    "language_info": {
      "codemirror_mode": {
        "name": "ipython",
        "version": 3
      },
      "file_extension": ".py",
      "mimetype": "text/x-python",
      "name": "python",
      "nbconvert_exporter": "python",
      "pygments_lexer": "ipython3",
      "version": "3.10.6"
    },
    "orig_nbformat": 4,
    "vscode": {
      "interpreter": {
        "hash": "59150dd3180ea18e99637fd552539381c38caea73b154cbeed15b808058e2c00"
      }
    },
    "colab": {
      "provenance": [],
      "include_colab_link": true
    }
  },
  "nbformat": 4,
  "nbformat_minor": 0
}