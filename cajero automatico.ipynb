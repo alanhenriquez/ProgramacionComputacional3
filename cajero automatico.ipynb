#Ejercicio cajero Automatico

dinero = int(input( " Ingrese la cantidad de dinero : " ) )
lista = [ 50 , 20 ,10 , 5 , 2 , 1 , 0.25 , 0.10 , 0.05, 0.01 ]
for i in lista:
    if dinero >= i:
        queda = dinero // i
        print ( str ( queda ) +
              ( ' billete' if dinero >= 10 else 'moneda') + ('s' if queda > 1 else '' ) +
              " de: " + str (i) + " Dolares " )
        dinero = dinero % i
                                         