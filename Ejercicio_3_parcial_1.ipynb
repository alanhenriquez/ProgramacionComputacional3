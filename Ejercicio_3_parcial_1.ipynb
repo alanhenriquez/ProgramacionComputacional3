{
  "nbformat": 4,
  "nbformat_minor": 0,
  "metadata": {
    "colab": {
      "provenance": [],
      "authorship_tag": "ABX9TyPHW7hvqHa0IVOysat04dtU",
      "include_colab_link": true
    },
    "kernelspec": {
      "name": "python3",
      "display_name": "Python 3"
    },
    "language_info": {
      "name": "python"
    }
  },
  "cells": [
    {
      "cell_type": "markdown",
      "metadata": {
        "id": "view-in-github",
        "colab_type": "text"
      },
      "source": [
        "<a href=\"https://colab.research.google.com/github/alanhenriquez/ProgramacionComputacional3/blob/main/Ejercicio_3_parcial_1.ipynb\" target=\"_parent\"><img src=\"https://colab.research.google.com/assets/colab-badge.svg\" alt=\"Open In Colab\"/></a>"
      ]
    },
    {
      "cell_type": "code",
      "execution_count": 1,
      "metadata": {
        "colab": {
          "base_uri": "https://localhost:8080/"
        },
        "id": "qT5gujLgNqXn",
        "outputId": "b7edb59c-37d2-4eb5-9bdc-c3214a5945b2"
      },
      "outputs": [
        {
          "output_type": "stream",
          "name": "stdout",
          "text": [
            "*** MENU - CONVERSOR***\n",
            "0.pie cuadrado\n",
            "1. vara cuadrada\n",
            "2. yarda cuadrada\n",
            "3. metro cuadrado\n",
            "4.tareas\n",
            "5. manzanas\n",
            "6. hectareas\n",
            "DE:5\n",
            "A: 3\n",
            "cantidad: 3\n",
            "en pie cuadrado:  2.82\n",
            "en vara cuadrada:  2.0999999999999996\n",
            "en yarda cuadrada:  2.52\n",
            "en metro cuadrado:  3e-06\n",
            "en tareas:  1886.58\n",
            "en manzanas:  300\n",
            "en hectareas:  300000\n"
          ]
        }
      ],
      "source": [
        "# 3-Desarrole el conversor de area(Superficie) haciendo uso de los diccionarios y las funciones del usuario en python que contenga las siguientes opciones:\n",
        "\n",
        "# a.pie cuadrado\n",
        "# b.vara cuadrada\n",
        "# c.yarda cuadrada\n",
        "# d.metro cuadrado\n",
        "# e.tareas\n",
        "# f.manzanas\n",
        "# g.hectareas\n",
        "\n",
        "medidas = {'Numero 0' : 0.94, 'Numero 1' : 0.70, 'Numero 2' : 0.84, 'Numero 3' : 1e-6, 'Numero 4' : 628.86, 'Numero 5': 100, 'Numero 6' : 100000}\n",
        "\n",
        "valores = [0.09,0.70,0.84,1e-6,628.86,100,10000]\n",
        "\n",
        "def convertir(de, a, cantidad):\n",
        "  return valores[a] / valores[de] * cantidad \n",
        "\n",
        "print(\"*** MENU - CONVERSOR***\")\n",
        "print(\"0.pie cuadrado\")\n",
        "print(\"1. vara cuadrada\")\n",
        "print(\"2. yarda cuadrada\")\n",
        "print(\"3. metro cuadrado\")\n",
        "print(\"4.tareas\")\n",
        "print(\"5. manzanas\")\n",
        "print(\"6. hectareas\")\n",
        "\n",
        "\n",
        "de = int(input(\"DE:\"))\n",
        "a = int(input(\"A: \"))\n",
        "cantidad = int(input(\"cantidad: \"))\n",
        "print(\"en pie cuadrado: \", medidas[ 'Numero 0'] * cantidad)\n",
        "\n",
        "print(\"en vara cuadrada: \", medidas['Numero 1'] * cantidad)\n",
        "\n",
        "print(\"en yarda cuadrada: \", medidas['Numero 2'] * cantidad)\n",
        "print(\"en metro cuadrado: \", medidas['Numero 3'] * cantidad)\n",
        "print(\"en tareas: \", medidas['Numero 4'] * cantidad)\n",
        "print(\"en manzanas: \", medidas['Numero 5'] * cantidad)\n",
        "print(\"en hectareas: \", medidas['Numero 6'] * cantidad)"
      ]
    }
  ]
}