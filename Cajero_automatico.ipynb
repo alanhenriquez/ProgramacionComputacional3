{
  "nbformat": 4,
  "nbformat_minor": 0,
  "metadata": {
    "colab": {
      "provenance": [],
      "authorship_tag": "ABX9TyM+4es/DtNDBLT0BAvyGvY1",
      "include_colab_link": true
    },
    "kernelspec": {
      "name": "python3",
      "display_name": "Python 3"
    },
    "language_info": {
      "name": "python"
    }
  },
  "cells": [
    {
      "cell_type": "markdown",
      "metadata": {
        "id": "view-in-github",
        "colab_type": "text"
      },
      "source": [
        "<a href=\"https://colab.research.google.com/github/alanhenriquez/ProgramacionComputacional3/blob/main/Cajero_automatico.ipynb\" target=\"_parent\"><img src=\"https://colab.research.google.com/assets/colab-badge.svg\" alt=\"Open In Colab\"/></a>"
      ]
    },
    {
      "cell_type": "code",
      "execution_count": null,
      "metadata": {
        "colab": {
          "base_uri": "https://localhost:8080/"
        },
        "id": "hvpVu5uEmKWw",
        "outputId": "70f0afbb-3dc0-4818-96bf-3d92765f8d33"
      },
      "outputs": [
        {
          "output_type": "stream",
          "name": "stdout",
          "text": [
            "Simulacion de cajero automático\n",
            "Ingrese la cantidad a retirar: 78\n",
            "4\n",
            "77\n",
            "88\n",
            "None\n",
            "Seguramente es entero 78\n",
            "<class 'str'>\n"
          ]
        }
      ],
      "source": [
        "import re\n",
        "\n",
        "\n",
        "print(\"Simulacion de cajero automático\")\n",
        "valor = input(\"Ingrese la cantidad a retirar: \")\n",
        "\n",
        "\n",
        "def CleanNumber(number):\n",
        "  patron = ('[0-9]');\n",
        "  palabras = re.compile(patron);\n",
        "  newnum = (palabras.findall(number));\n",
        "  tamano = len(newnum);\n",
        "  numero = 0;\n",
        "  \n",
        "  if \"[0-9]\" in number:\n",
        "    print(str(number))\n",
        "\n",
        "  while numero < tamano:\n",
        "    print(newnum[numero] + newnum[numero])\n",
        "    numero += 1;\n",
        "    \n",
        "\n",
        "def longitud(mi_lista):\n",
        "    cont = 0\n",
        "    for _ in mi_lista:\n",
        "        cont += 1\n",
        "    return cont\n",
        "print(longitud(\"hola\"))\n",
        "print(CleanNumber(valor));  \n",
        "\n",
        "    \n",
        "if '.' in valor:\n",
        "    print(\"Seguramente es decimal\", valor)\n",
        "    print(type(valor))\n",
        "else:\n",
        "    print(\"Seguramente es entero\", valor)\n",
        "    print(type(valor))\n",
        "\n",
        "dato = input(\"Ingrese dato: \")\n",
        "\n",
        "def DetectType(_dato):\n",
        "    num = None\n",
        "    for conv in (int, float, complex):\n",
        "      try:\n",
        "        num = conv(_dato)\n",
        "        break\n",
        "      except ValueError:\n",
        "        pass\n",
        "        \n",
        "    if num is None:\n",
        "      print(\"Error de entrada\")\n",
        "    else:\n",
        "      typos = (f\"dato={num} (tipo: {type(num).__name__})\");\n",
        "      return typos;\n",
        "\n",
        "\n",
        "num = int(valor);    \n",
        "\n",
        "dollarArray = [\"20\",\"10\",\"5\",\"1\"];\n",
        "centavosArray = [\"0.25\",\"0.10\",\"0.05\",\"0.01\"]\n",
        "while num >= 20:\n",
        "  num = num - 20\n",
        "  print(str(num))\n",
        "\n",
        "while num >= 10:\n",
        "  num = num - 10\n",
        "  print(str(num))\n",
        "\n",
        "while num >= 5:\n",
        "  num = num - 5\n",
        "  print(str(num))\n",
        "\n",
        "while num >= 1:\n",
        "  num = num - 1\n",
        "  print(str(num))  \n",
        "\n",
        "while num >= 0.25:\n",
        "  num = num - 0.25\n",
        "  print(str(num))\n",
        "\n",
        "while num >= 0.10:\n",
        "  num = num - 0.10\n",
        "  print(str(num))\n",
        "\n",
        "while num >= 0.05:\n",
        "  num = num - 0.05\n",
        "  print(str(num))   \n",
        "\n",
        "while num >= 0.01:\n",
        "  num = num - 0.01\n",
        "  print(str(num))     \n"
      ]
    }
  ]
}