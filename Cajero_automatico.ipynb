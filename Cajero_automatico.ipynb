{
  "nbformat": 4,
  "nbformat_minor": 0,
  "metadata": {
    "colab": {
      "provenance": [],
      "collapsed_sections": [],
      "authorship_tag": "ABX9TyPXqiJ2ysd8wHozZ85QQApB",
      "include_colab_link": true
    },
    "kernelspec": {
      "name": "python3",
      "display_name": "Python 3"
    },
    "language_info": {
      "name": "python"
    }
  },
  "cells": [
    {
      "cell_type": "markdown",
      "metadata": {
        "id": "view-in-github",
        "colab_type": "text"
      },
      "source": [
        "<a href=\"https://colab.research.google.com/github/alanhenriquez/ProgramacionComputacional3/blob/main/Cajero_automatico.ipynb\" target=\"_parent\"><img src=\"https://colab.research.google.com/assets/colab-badge.svg\" alt=\"Open In Colab\"/></a>"
      ]
    },
    {
      "cell_type": "code",
      "execution_count": null,
      "metadata": {
        "id": "hvpVu5uEmKWw"
      },
      "outputs": [],
      "source": [
        "from array import array\n",
        "import re\n",
        "import numpy as np\n",
        "\n",
        "\n",
        "print(\"Simulacion de cajero automático\")\n",
        "valor = input(\"Ingrese la cantidad a retirar: \")\n",
        "\n",
        "\n",
        "def CleanNumber(number):\n",
        "  patron = ('0-9');\n",
        "  matriz = re.compile(patron).findall(str(number));\n",
        "  longitud = len(matriz);\n",
        "  result = 0;\n",
        "  change = 0;\n",
        "\n",
        "  print(matriz)\n",
        "  sentence = str(number)\n",
        "  s = [int(s) for s in re.findall(r'-?\\d+\\.?\\d*', sentence)]\n",
        "  print(s)\n",
        "\n",
        "  while change < longitud:\n",
        "    result = matriz[change];\n",
        "    change += 1;\n",
        "\n",
        "  \n",
        "  print(str(change) + \"numero\")\n",
        "\n",
        "\n",
        "  print(matriz);\n",
        "  print(np.array(matriz));\n",
        "  matriz=[1,2,3]\n",
        "  suma = sum(sum(np.array(matriz), []))\n",
        "  print(suma);\n",
        "  \n",
        "  \n",
        "    \n",
        "\n",
        "print(CleanNumber(valor));  \n",
        "\n",
        "    \n",
        "\n",
        "\n",
        "dollarArray = [\"20\",\"10\",\"5\",\"1\"];\n",
        "centavosArray = [\"0.25\",\"0.10\",\"0.05\",\"0.01\"]\n",
        "num = int(valor)\n",
        "while num >= 20:\n",
        "  num = num - 20\n",
        "  print(str(num))\n",
        "\n",
        "while num >= 10:\n",
        "  num = num - 10\n",
        "  print(str(num))\n",
        "\n",
        "while num >= 5:\n",
        "  num = num - 5\n",
        "  print(str(num))\n",
        "\n",
        "while num >= 1:\n",
        "  num = num - 1\n",
        "  print(str(num))  \n",
        "\n",
        "while num >= 0.25:\n",
        "  num = num - 0.25\n",
        "  print(str(num))\n",
        "\n",
        "while num >= 0.10:\n",
        "  num = num - 0.10\n",
        "  print(str(num))\n",
        "\n",
        "while num >= 0.05:\n",
        "  num = num - 0.05\n",
        "  print(str(num))   \n",
        "\n",
        "while num >= 0.01:\n",
        "  num = num - 0.01\n",
        "  print(str(num))     \n"
      ]
    },
    {
      "cell_type": "code",
      "source": [
        "\n",
        "numero = input()\n",
        "num = None\n",
        "\n",
        "def TipoDato(number):\n",
        "  for conv in (int, float, complex, str, bool):\n",
        "    try:\n",
        "      num = conv(number)\n",
        "      break\n",
        "    except ValueError:\n",
        "      pass\n",
        "\n",
        "  if num is None:\n",
        "      print(\"Error de entrada\")\n",
        "  else:\n",
        "      typos = (type(num).__name__);\n",
        "      print(typos);    \n",
        "\n",
        "TipoDato(numero)\n"
      ],
      "metadata": {
        "colab": {
          "base_uri": "https://localhost:8080/"
        },
        "id": "T8hT5qW2AxTY",
        "outputId": "6933ee3d-117e-4dcc-9885-dfb301607e50"
      },
      "execution_count": 77,
      "outputs": [
        {
          "output_type": "stream",
          "name": "stdout",
          "text": [
            "True\n",
            "str\n"
          ]
        }
      ]
    }
  ]
}