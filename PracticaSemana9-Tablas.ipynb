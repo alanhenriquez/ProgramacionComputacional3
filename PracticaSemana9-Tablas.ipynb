{
  "nbformat": 4,
  "nbformat_minor": 0,
  "metadata": {
    "colab": {
      "provenance": [],
      "authorship_tag": "ABX9TyPyAMZQcSLM2vTk1XkPpsQy",
      "include_colab_link": true
    },
    "kernelspec": {
      "name": "python3",
      "display_name": "Python 3"
    },
    "language_info": {
      "name": "python"
    }
  },
  "cells": [
    {
      "cell_type": "markdown",
      "metadata": {
        "id": "view-in-github",
        "colab_type": "text"
      },
      "source": [
        "<a href=\"https://colab.research.google.com/github/alanhenriquez/ProgramacionComputacional3/blob/main/PracticaSemana9-Tablas.ipynb\" target=\"_parent\"><img src=\"https://colab.research.google.com/assets/colab-badge.svg\" alt=\"Open In Colab\"/></a>"
      ]
    },
    {
      "cell_type": "code",
      "execution_count": null,
      "metadata": {
        "id": "4MCV2vjBOD7j"
      },
      "outputs": [],
      "source": [
        "from pandas.io.formats.style import plt\n",
        "import pandas as pd;\n",
        "notas = pd.read_csv(\"/content/Progra.csv\", sep=\";\", encoding=\"utf-8\");\n",
        "print(\"\\n\" + \"*Notas alumnos\")\n",
        "print(notas);\n",
        "\n",
        "sobresalientes = notas.loc[notas[\"Notas\"]>=9]\n",
        "print(\"\\n\" + \"*Alumnos sobresalientes\")\n",
        "print(sobresalientes);\n",
        "\n",
        "reprobados = notas.loc[notas[\"Notas\"]>=6].agg({\"count\"});\n",
        "print(\"\\n\" + \"*Alumnos reprobados\")\n",
        "print(reprobados);\n",
        "\n",
        "agrupar = notas.groupby([\"Notas\"]).agg([\"sum\"]);\n",
        "print(\"\\n\" + \"*Alumnos Agrupados\")\n",
        "print(agrupar);\n",
        "\n",
        "tabla = pd.crosstab(index=notas[\"Notas\"], columns=\"frecuencia\");\n",
        "plt.pie(tabla, labels=tabla.index);\n",
        "plt.xlabel(\"Estudiantes por notas\");\n",
        "plt.show();"
      ]
    }
  ]
}