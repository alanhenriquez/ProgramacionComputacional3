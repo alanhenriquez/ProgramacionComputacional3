{
  "nbformat": 4,
  "nbformat_minor": 0,
  "metadata": {
    "colab": {
      "provenance": [],
      "authorship_tag": "ABX9TyPyAMZQcSLM2vTk1XkPpsQy",
      "include_colab_link": true
    },
    "kernelspec": {
      "name": "python3",
      "display_name": "Python 3"
    },
    "language_info": {
      "name": "python"
    }
  },
  "cells": [
    {
      "cell_type": "markdown",
      "metadata": {
        "id": "view-in-github",
        "colab_type": "text"
      },
      "source": [
        "<a href=\"https://colab.research.google.com/github/alanhenriquez/ProgramacionComputacional3/blob/main/PracticaSemana9-Tablas.ipynb\" target=\"_parent\"><img src=\"https://colab.research.google.com/assets/colab-badge.svg\" alt=\"Open In Colab\"/></a>"
      ]
    },
    {
      "cell_type": "code",
      "execution_count": 1,
      "metadata": {
        "id": "4MCV2vjBOD7j",
        "outputId": "d25e6edc-f0a0-446b-9005-496b996d93cc",
        "colab": {
          "base_uri": "https://localhost:8080/",
          "height": 818
        }
      },
      "outputs": [
        {
          "output_type": "stream",
          "name": "stdout",
          "text": [
            "\n",
            "*Notas alumnos\n",
            "            Alumnos  Notas\n",
            "0      Juan Alberto      5\n",
            "1   Michael segovia      7\n",
            "2      Carla Laines      6\n",
            "3   Alan Monterrosa     10\n",
            "4  Estephany Campos      8\n",
            "5    Jenny Marielos      9\n",
            "\n",
            "*Alumnos sobresalientes\n",
            "           Alumnos  Notas\n",
            "3  Alan Monterrosa     10\n",
            "5   Jenny Marielos      9\n",
            "\n",
            "*Alumnos reprobados\n",
            "       Alumnos  Notas\n",
            "count        5      5\n",
            "\n",
            "*Alumnos Agrupados\n",
            "                Alumnos\n",
            "                    sum\n",
            "Notas                  \n",
            "5          Juan Alberto\n",
            "6          Carla Laines\n",
            "7       Michael segovia\n",
            "8      Estephany Campos\n",
            "9        Jenny Marielos\n",
            "10      Alan Monterrosa\n"
          ]
        },
        {
          "output_type": "stream",
          "name": "stderr",
          "text": [
            "/usr/local/lib/python3.7/dist-packages/ipykernel_launcher.py:20: MatplotlibDeprecationWarning: Non-1D inputs to pie() are currently squeeze()d, but this behavior is deprecated since 3.1 and will be removed in 3.3; pass a 1D array instead.\n"
          ]
        },
        {
          "output_type": "display_data",
          "data": {
            "text/plain": [
              "<Figure size 432x288 with 1 Axes>"
            ],
            "image/png": "[encoded data removed]"
          },
          "metadata": {}
        }
      ],
      "source": [
        "from pandas.io.formats.style import plt\n",
        "import pandas as pd;\n",
        "notas = pd.read_csv(\"/content/Progra.csv\", sep=\";\", encoding=\"utf-8\");\n",
        "print(\"\\n\" + \"*Notas alumnos\")\n",
        "print(notas);\n",
        "\n",
        "sobresalientes = notas.loc[notas[\"Notas\"]>=9]\n",
        "print(\"\\n\" + \"*Alumnos sobresalientes\")\n",
        "print(sobresalientes);\n",
        "\n",
        "reprobados = notas.loc[notas[\"Notas\"]>=6].agg({\"count\"});\n",
        "print(\"\\n\" + \"*Alumnos reprobados\")\n",
        "print(reprobados);\n",
        "\n",
        "agrupar = notas.groupby([\"Notas\"]).agg([\"sum\"]);\n",
        "print(\"\\n\" + \"*Alumnos Agrupados\")\n",
        "print(agrupar);\n",
        "\n",
        "tabla = pd.crosstab(index=notas[\"Notas\"], columns=\"frecuencia\");\n",
        "plt.pie(tabla, labels=tabla.index);\n",
        "plt.xlabel(\"Estudiantes por notas\");\n",
        "plt.show();"
      ]
    }
  ]
}